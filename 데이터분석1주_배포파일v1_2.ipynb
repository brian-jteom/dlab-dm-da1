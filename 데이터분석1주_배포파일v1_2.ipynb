{
  "nbformat": 4,
  "nbformat_minor": 0,
  "metadata": {
    "colab": {
      "provenance": [],
      "toc_visible": true,
      "include_colab_link": true
    },
    "kernelspec": {
      "name": "python3",
      "display_name": "Python 3"
    },
    "language_info": {
      "name": "python"
    }
  },
  "cells": [
    {
      "cell_type": "markdown",
      "metadata": {
        "id": "view-in-github",
        "colab_type": "text"
      },
      "source": [
        "<a href=\"https://colab.research.google.com/github/brian-jteom/dlab-dm-da1/blob/main/%EB%8D%B0%EC%9D%B4%ED%84%B0%EB%B6%84%EC%84%9D1%EC%A3%BC_%EB%B0%B0%ED%8F%AC%ED%8C%8C%EC%9D%BCv1_2.ipynb\" target=\"_parent\"><img src=\"https://colab.research.google.com/assets/colab-badge.svg\" alt=\"Open In Colab\"/></a>"
      ]
    },
    {
      "cell_type": "markdown",
      "source": [
        "# 1.코랩기본 사용법"
      ],
      "metadata": {
        "id": "HNKG3J_ytO9I"
      }
    },
    {
      "cell_type": "markdown",
      "source": [
        "## 1.1텍스트셀 사용해보기\n",
        "\n",
        "\n"
      ],
      "metadata": {
        "id": "O9kUje7WqVW4"
      }
    },
    {
      "cell_type": "markdown",
      "source": [
        "##1.2 코드셀 사용하기"
      ],
      "metadata": {
        "id": "raWsbjM9tzPa"
      }
    },
    {
      "cell_type": "code",
      "source": [
        "\n",
        "print()"
      ],
      "metadata": {
        "id": "Rz5nhOa0roc4",
        "outputId": "3cbb1e43-83d6-493d-e8a3-6c03ec740b6f",
        "colab": {
          "base_uri": "https://localhost:8080/"
        }
      },
      "execution_count": null,
      "outputs": [
        {
          "output_type": "stream",
          "name": "stdout",
          "text": [
            "\n"
          ]
        }
      ]
    },
    {
      "cell_type": "markdown",
      "source": [
        "# 2.오류메시지 확인하기\n"
      ],
      "metadata": {
        "id": "y3riI4tAtKMp"
      }
    },
    {
      "cell_type": "code",
      "source": [
        "#참조변수없음\n",
        "print(num)"
      ],
      "metadata": {
        "id": "UDTbdr78r4P6",
        "outputId": "1746d7c0-f6cc-405c-a3b0-93e8d3f6c654",
        "colab": {
          "base_uri": "https://localhost:8080/",
          "height": 162
        }
      },
      "execution_count": null,
      "outputs": [
        {
          "output_type": "error",
          "ename": "NameError",
          "evalue": "name 'num' is not defined",
          "traceback": [
            "\u001b[0;31m---------------------------------------------------------------------------\u001b[0m",
            "\u001b[0;31mNameError\u001b[0m                                 Traceback (most recent call last)",
            "\u001b[0;32m<ipython-input-2-79c102a2e229>\u001b[0m in \u001b[0;36m<cell line: 0>\u001b[0;34m()\u001b[0m\n\u001b[1;32m      1\u001b[0m \u001b[0;31m#참조변수없음\u001b[0m\u001b[0;34m\u001b[0m\u001b[0;34m\u001b[0m\u001b[0m\n\u001b[0;32m----> 2\u001b[0;31m \u001b[0mprint\u001b[0m\u001b[0;34m(\u001b[0m\u001b[0mnum\u001b[0m\u001b[0;34m)\u001b[0m\u001b[0;34m\u001b[0m\u001b[0;34m\u001b[0m\u001b[0m\n\u001b[0m",
            "\u001b[0;31mNameError\u001b[0m: name 'num' is not defined"
          ]
        }
      ]
    },
    {
      "cell_type": "code",
      "source": [
        "#SyntaxError  문법이 잘못된것\n",
        "num = 1:\n",
        "print(num)"
      ],
      "metadata": {
        "id": "iq2J_qVtuRQK",
        "outputId": "16d11de6-27e4-42b1-e00f-fcd63c3a835f",
        "colab": {
          "base_uri": "https://localhost:8080/",
          "height": 108
        }
      },
      "execution_count": null,
      "outputs": [
        {
          "output_type": "error",
          "ename": "SyntaxError",
          "evalue": "invalid syntax (<ipython-input-3-f2149964dc83>, line 2)",
          "traceback": [
            "\u001b[0;36m  File \u001b[0;32m\"<ipython-input-3-f2149964dc83>\"\u001b[0;36m, line \u001b[0;32m2\u001b[0m\n\u001b[0;31m    num = 1:\u001b[0m\n\u001b[0m           ^\u001b[0m\n\u001b[0;31mSyntaxError\u001b[0m\u001b[0;31m:\u001b[0m invalid syntax\n"
          ]
        }
      ]
    },
    {
      "cell_type": "code",
      "source": [
        "#TypeError : 타입이 안맞는것\n",
        "a , b = \"1\" , \"2\"\n",
        "c = a - b\n",
        "print(c)"
      ],
      "metadata": {
        "id": "YT--0YH5uYIi",
        "outputId": "e9f15858-6917-4677-ed7b-6cb246ba724d",
        "colab": {
          "base_uri": "https://localhost:8080/",
          "height": 198
        }
      },
      "execution_count": null,
      "outputs": [
        {
          "output_type": "error",
          "ename": "TypeError",
          "evalue": "unsupported operand type(s) for -: 'str' and 'str'",
          "traceback": [
            "\u001b[0;31m---------------------------------------------------------------------------\u001b[0m",
            "\u001b[0;31mTypeError\u001b[0m                                 Traceback (most recent call last)",
            "\u001b[0;32m<ipython-input-4-f9f0218c07a7>\u001b[0m in \u001b[0;36m<cell line: 0>\u001b[0;34m()\u001b[0m\n\u001b[1;32m      1\u001b[0m \u001b[0;31m#TypeError : 타입이 안맞는것\u001b[0m\u001b[0;34m\u001b[0m\u001b[0;34m\u001b[0m\u001b[0m\n\u001b[1;32m      2\u001b[0m \u001b[0ma\u001b[0m \u001b[0;34m,\u001b[0m \u001b[0mb\u001b[0m \u001b[0;34m=\u001b[0m \u001b[0;34m\"1\"\u001b[0m \u001b[0;34m,\u001b[0m \u001b[0;34m\"2\"\u001b[0m\u001b[0;34m\u001b[0m\u001b[0;34m\u001b[0m\u001b[0m\n\u001b[0;32m----> 3\u001b[0;31m \u001b[0mc\u001b[0m \u001b[0;34m=\u001b[0m \u001b[0ma\u001b[0m \u001b[0;34m-\u001b[0m \u001b[0mb\u001b[0m\u001b[0;34m\u001b[0m\u001b[0;34m\u001b[0m\u001b[0m\n\u001b[0m\u001b[1;32m      4\u001b[0m \u001b[0mprint\u001b[0m\u001b[0;34m(\u001b[0m\u001b[0mc\u001b[0m\u001b[0;34m)\u001b[0m\u001b[0;34m\u001b[0m\u001b[0;34m\u001b[0m\u001b[0m\n",
            "\u001b[0;31mTypeError\u001b[0m: unsupported operand type(s) for -: 'str' and 'str'"
          ]
        }
      ]
    },
    {
      "cell_type": "markdown",
      "source": [],
      "metadata": {
        "id": "HIVdcju_u6aw"
      }
    },
    {
      "cell_type": "code",
      "source": [
        "#들여쓰기 IndentationError 에러\n",
        "print(1)\n",
        " print(2)"
      ],
      "metadata": {
        "id": "JlQFnkWbuvdM",
        "outputId": "fec2cdf4-0935-4d7e-8701-a7b052946495",
        "colab": {
          "base_uri": "https://localhost:8080/",
          "height": 108
        }
      },
      "execution_count": null,
      "outputs": [
        {
          "output_type": "error",
          "ename": "IndentationError",
          "evalue": "unexpected indent (<ipython-input-5-e91c4f3e6243>, line 3)",
          "traceback": [
            "\u001b[0;36m  File \u001b[0;32m\"<ipython-input-5-e91c4f3e6243>\"\u001b[0;36m, line \u001b[0;32m3\u001b[0m\n\u001b[0;31m    print(2)\u001b[0m\n\u001b[0m    ^\u001b[0m\n\u001b[0;31mIndentationError\u001b[0m\u001b[0;31m:\u001b[0m unexpected indent\n"
          ]
        }
      ]
    },
    {
      "cell_type": "code",
      "source": [
        "# ZeroDivisionError : 0으로 나눈것\n",
        "a,b=1,0\n",
        "c = a/b\n",
        "print(c)\n"
      ],
      "metadata": {
        "id": "kosDrq3gumqz",
        "outputId": "8fe812cc-5d23-475a-8ab2-d8ee3ca9fa50",
        "colab": {
          "base_uri": "https://localhost:8080/",
          "height": 198
        }
      },
      "execution_count": null,
      "outputs": [
        {
          "output_type": "error",
          "ename": "ZeroDivisionError",
          "evalue": "division by zero",
          "traceback": [
            "\u001b[0;31m---------------------------------------------------------------------------\u001b[0m",
            "\u001b[0;31mZeroDivisionError\u001b[0m                         Traceback (most recent call last)",
            "\u001b[0;32m<ipython-input-6-b518a6e80f50>\u001b[0m in \u001b[0;36m<cell line: 0>\u001b[0;34m()\u001b[0m\n\u001b[1;32m      1\u001b[0m \u001b[0;31m# ZeroDivisionError : 0으로 나눈것\u001b[0m\u001b[0;34m\u001b[0m\u001b[0;34m\u001b[0m\u001b[0m\n\u001b[1;32m      2\u001b[0m \u001b[0ma\u001b[0m\u001b[0;34m,\u001b[0m\u001b[0mb\u001b[0m\u001b[0;34m=\u001b[0m\u001b[0;36m1\u001b[0m\u001b[0;34m,\u001b[0m\u001b[0;36m0\u001b[0m\u001b[0;34m\u001b[0m\u001b[0;34m\u001b[0m\u001b[0m\n\u001b[0;32m----> 3\u001b[0;31m \u001b[0mc\u001b[0m \u001b[0;34m=\u001b[0m \u001b[0ma\u001b[0m\u001b[0;34m/\u001b[0m\u001b[0mb\u001b[0m\u001b[0;34m\u001b[0m\u001b[0;34m\u001b[0m\u001b[0m\n\u001b[0m\u001b[1;32m      4\u001b[0m \u001b[0mprint\u001b[0m\u001b[0;34m(\u001b[0m\u001b[0mc\u001b[0m\u001b[0;34m)\u001b[0m\u001b[0;34m\u001b[0m\u001b[0;34m\u001b[0m\u001b[0m\n",
            "\u001b[0;31mZeroDivisionError\u001b[0m: division by zero"
          ]
        }
      ]
    },
    {
      "cell_type": "markdown",
      "source": [
        "#3.리스트연습하기\n"
      ],
      "metadata": {
        "id": "829BAjjku_lM"
      }
    },
    {
      "cell_type": "code",
      "source": [
        "#list함수를 사용하여 1~20양의 정수리스트를 만들고 출력해 보세요.\n",
        "\n"
      ],
      "metadata": {
        "id": "Giis9GMfvCGd"
      },
      "execution_count": null,
      "outputs": []
    },
    {
      "cell_type": "code",
      "source": [
        "#리스트에서 짝수만 출력해보세요.\n",
        "\n"
      ],
      "metadata": {
        "id": "h1KTtvrivvsm"
      },
      "execution_count": null,
      "outputs": []
    },
    {
      "cell_type": "code",
      "source": [
        "#좋아하는 아이돌 리스트 만들기 5개 넣으세요.\n",
        "li_idol = ['뉴진스','에스파','르세라핌','블랙핑크','아이브']\n",
        "li_idol"
      ],
      "metadata": {
        "id": "Kcrwp9-0v7cX",
        "outputId": "cc1c3f2c-5090-4391-9018-f6310c9e0d10",
        "colab": {
          "base_uri": "https://localhost:8080/"
        }
      },
      "execution_count": null,
      "outputs": [
        {
          "output_type": "execute_result",
          "data": {
            "text/plain": [
              "['뉴진스', '에스파', '르세라핌', '블랙핑크', '아이브']"
            ]
          },
          "metadata": {},
          "execution_count": 10
        }
      ]
    },
    {
      "cell_type": "code",
      "source": [
        "#마지막에 BTS추가하기\n",
        "\n",
        "#3번째 '마마무'추가하기\n",
        "\n",
        "#르세라핌의 인덱스를 찾아 '여자아이들'로 수정하기\n",
        "\n",
        "\n",
        "#BTS 삭제하기\n"
      ],
      "metadata": {
        "id": "KMErjKGjwCB0"
      },
      "execution_count": null,
      "outputs": []
    },
    {
      "cell_type": "code",
      "source": [
        "#1~1000사이의 랜덤한 숫자 100개를 리스트에 넣어 항목수, 합계, 최소값, 최대값, 평균구하기\n",
        "\n",
        "import random\n",
        "li_num = []\n",
        "\n",
        "for _ in range(100):\n",
        "    li_num.append()\n",
        "\n",
        "print(\"항목수 :\",)\n",
        "print(\"합계   :\",)\n",
        "print(\"최대값 :\",)\n",
        "print(\"최소값 :\", )\n",
        "print(\"평균   :\",)"
      ],
      "metadata": {
        "id": "g5-XZxr5wNkz",
        "outputId": "b7d27277-f962-4354-b70a-131764a20e8b",
        "colab": {
          "base_uri": "https://localhost:8080/",
          "height": 216
        }
      },
      "execution_count": null,
      "outputs": [
        {
          "output_type": "error",
          "ename": "TypeError",
          "evalue": "list.append() takes exactly one argument (0 given)",
          "traceback": [
            "\u001b[0;31m---------------------------------------------------------------------------\u001b[0m",
            "\u001b[0;31mTypeError\u001b[0m                                 Traceback (most recent call last)",
            "\u001b[0;32m<ipython-input-11-fe3f026adfbf>\u001b[0m in \u001b[0;36m<cell line: 0>\u001b[0;34m()\u001b[0m\n\u001b[1;32m      5\u001b[0m \u001b[0;34m\u001b[0m\u001b[0m\n\u001b[1;32m      6\u001b[0m \u001b[0;32mfor\u001b[0m \u001b[0m_\u001b[0m \u001b[0;32min\u001b[0m \u001b[0mrange\u001b[0m\u001b[0;34m(\u001b[0m\u001b[0;36m100\u001b[0m\u001b[0;34m)\u001b[0m\u001b[0;34m:\u001b[0m\u001b[0;34m\u001b[0m\u001b[0;34m\u001b[0m\u001b[0m\n\u001b[0;32m----> 7\u001b[0;31m     \u001b[0mli_num\u001b[0m\u001b[0;34m.\u001b[0m\u001b[0mappend\u001b[0m\u001b[0;34m(\u001b[0m\u001b[0;34m)\u001b[0m\u001b[0;34m\u001b[0m\u001b[0;34m\u001b[0m\u001b[0m\n\u001b[0m\u001b[1;32m      8\u001b[0m \u001b[0;34m\u001b[0m\u001b[0m\n\u001b[1;32m      9\u001b[0m \u001b[0mprint\u001b[0m\u001b[0;34m(\u001b[0m\u001b[0;34m\"항목수 :\"\u001b[0m\u001b[0;34m,\u001b[0m\u001b[0;34m)\u001b[0m\u001b[0;34m\u001b[0m\u001b[0;34m\u001b[0m\u001b[0m\n",
            "\u001b[0;31mTypeError\u001b[0m: list.append() takes exactly one argument (0 given)"
          ]
        }
      ]
    },
    {
      "cell_type": "code",
      "source": [
        "#오름차순 정렬하기\n",
        "li2 = li_num.copy()\n",
        "\n"
      ],
      "metadata": {
        "id": "uh_QLm_HwfVd"
      },
      "execution_count": null,
      "outputs": []
    },
    {
      "cell_type": "code",
      "source": [
        "#내림차순정렬하기\n",
        "li2 = li_num.copy()\n",
        "\n"
      ],
      "metadata": {
        "id": "20sY7JnywnYa"
      },
      "execution_count": null,
      "outputs": []
    },
    {
      "cell_type": "markdown",
      "source": [
        "#4.Numpy"
      ],
      "metadata": {
        "id": "TasJFZtmxSAG"
      }
    },
    {
      "cell_type": "code",
      "source": [
        "import numpy as np"
      ],
      "metadata": {
        "id": "iByG6kzFxWmA"
      },
      "execution_count": null,
      "outputs": []
    },
    {
      "cell_type": "code",
      "source": [
        "#list Data를 Numpy배열로 생성하기\n",
        "\n",
        "list = [1,2,3,4,5]\n",
        "print(list)\n",
        "\n"
      ],
      "metadata": {
        "colab": {
          "base_uri": "https://localhost:8080/"
        },
        "id": "OXBGmo7BxZU1",
        "outputId": "dcfd4c27-ae3a-4a83-8581-7367d1ae149e"
      },
      "execution_count": null,
      "outputs": [
        {
          "output_type": "stream",
          "name": "stdout",
          "text": [
            "[1, 2, 3, 4, 5]\n",
            "[1 2 3 4 5]\n"
          ]
        }
      ]
    },
    {
      "cell_type": "code",
      "source": [
        "#arr 인덱싱, 슬라이싱 가능\n",
        "arr = np.array([1,2,3,4,5])\n",
        "arr[2]"
      ],
      "metadata": {
        "id": "AxOzsaA0xoex"
      },
      "execution_count": null,
      "outputs": []
    },
    {
      "cell_type": "code",
      "source": [
        "arr[-3]"
      ],
      "metadata": {
        "id": "Y2IzjXIFx715"
      },
      "execution_count": null,
      "outputs": []
    },
    {
      "cell_type": "code",
      "source": [
        "arr = np.array([2,6,8,9,12,23,27,32,35])\n"
      ],
      "metadata": {
        "id": "uwcA62xEx94o"
      },
      "execution_count": null,
      "outputs": []
    },
    {
      "cell_type": "code",
      "source": [
        "arr[::2]"
      ],
      "metadata": {
        "id": "41bqgIUI0NmR"
      },
      "execution_count": null,
      "outputs": []
    },
    {
      "cell_type": "code",
      "source": [
        "list = [1,2,3,4,5]\n",
        "print(list)\n",
        "arr = np.array(list)\n",
        "print(arr)\n",
        "\n"
      ],
      "metadata": {
        "colab": {
          "base_uri": "https://localhost:8080/"
        },
        "id": "uTSebDMD0gUM",
        "outputId": "22b44069-b697-4ccd-96a2-d04512a09c4c"
      },
      "execution_count": null,
      "outputs": [
        {
          "output_type": "stream",
          "name": "stdout",
          "text": [
            "[1, 2, 3, 4, 5]\n",
            "[1 2 3 4 5]\n",
            "<class 'list'>\n",
            "<class 'numpy.ndarray'>\n"
          ]
        }
      ]
    },
    {
      "cell_type": "code",
      "source": [
        "#1부터 10까지 정수로 된 넘파이 배열 만들기\n",
        "arr =\n",
        "print(arr)"
      ],
      "metadata": {
        "id": "f-6GomlS0lWL"
      },
      "execution_count": null,
      "outputs": []
    },
    {
      "cell_type": "code",
      "source": [
        "#1에서 2까지 0.1간격의 소수로 이루어진 배열만들기\n",
        "arr =\n",
        "print(arr)"
      ],
      "metadata": {
        "id": "vdNDRu1p022s"
      },
      "execution_count": null,
      "outputs": []
    },
    {
      "cell_type": "code",
      "source": [
        "#0에서 80까지 숫자중에서 6의 배수만 들어있는 배열만들기\n",
        "arr =\n",
        "arr"
      ],
      "metadata": {
        "id": "Q1COFv6Y1ALB"
      },
      "execution_count": null,
      "outputs": []
    },
    {
      "cell_type": "code",
      "source": [
        "#배열 arr에서 홀수번째 숫자들 2, 8, 12, 27, 35를 슬라이싱해보세요.\n",
        "arr = np.array([2,6,8,9,12,23,27,32,35])\n"
      ],
      "metadata": {
        "id": "uNYhClu01HTm"
      },
      "execution_count": null,
      "outputs": []
    },
    {
      "cell_type": "code",
      "source": [
        "#왜 list대신 numpy 사용효과를 알아봅시다.\n",
        "arr = np.array(range(10000000))\n",
        "arr"
      ],
      "metadata": {
        "id": "Yjv1i4BD1Ohe"
      },
      "execution_count": null,
      "outputs": []
    },
    {
      "cell_type": "code",
      "source": [
        "# 시간 측적 함수 매크로 %%time과\n",
        "%%time\n",
        "list1 = []\n",
        "for v in arr:\n",
        "  if v % 2 == 0 and v % 8 == 0: #2의 배수이고 8의 배수인 숫자들\n",
        "    list1.append(v)\n",
        "print(len(list1))"
      ],
      "metadata": {
        "id": "pM4CqZ9x1oR1"
      },
      "execution_count": null,
      "outputs": []
    },
    {
      "cell_type": "code",
      "source": [
        "%%time\n",
        "len( arr[(  ) & (  )]) #2의 배수이고 8의 배수인 숫자들"
      ],
      "metadata": {
        "id": "gpsG0Uqf1vfn"
      },
      "execution_count": null,
      "outputs": []
    },
    {
      "cell_type": "code",
      "source": [
        "#리스트의 모든값을 두배로 만들려면?\n",
        "s = [2, 4, 6, 8, 10]\n",
        "for i in range(len(s)):\n",
        "\n",
        "print(s)"
      ],
      "metadata": {
        "colab": {
          "base_uri": "https://localhost:8080/"
        },
        "id": "BKlGs3H82Jv0",
        "outputId": "7d53bc66-b461-40f9-8c0c-ab4ecedb079a"
      },
      "execution_count": null,
      "outputs": [
        {
          "output_type": "stream",
          "name": "stdout",
          "text": [
            "[4, 8, 12, 16, 20]\n"
          ]
        }
      ]
    },
    {
      "cell_type": "code",
      "source": [
        "#numpy로 모든값을 두배로 만들려면 ?\n",
        "s = [2, 4, 6, 8, 10]\n",
        "arr1 = np.array(s)\n",
        "\n",
        "result = arr1 * 2\n",
        "print(result)"
      ],
      "metadata": {
        "id": "vFd1vZ6d2d7h"
      },
      "execution_count": null,
      "outputs": []
    },
    {
      "cell_type": "code",
      "source": [
        "#list의 곱은?\n",
        "s = [2, 4, 6, 8, 10]\n",
        "print(s*2)"
      ],
      "metadata": {
        "colab": {
          "base_uri": "https://localhost:8080/"
        },
        "id": "UgQg5CT_20HJ",
        "outputId": "409830eb-a3b4-4583-f83f-714d54ad3c72"
      },
      "execution_count": null,
      "outputs": [
        {
          "output_type": "stream",
          "name": "stdout",
          "text": [
            "[2, 4, 6, 8, 10, 2, 4, 6, 8, 10]\n"
          ]
        }
      ]
    },
    {
      "cell_type": "code",
      "source": [
        "#arr의 사칙연산\n",
        "s = [2, 4, 6, 8, 10]\n",
        "arr1 = np.array(s)\n",
        "\n",
        "print(result)\n",
        "\n",
        "\n",
        "print(result)\n",
        "\n",
        "\n",
        "print(result)\n",
        "\n",
        "\n",
        "print(result)"
      ],
      "metadata": {
        "id": "z8TlkIrb24Ak"
      },
      "execution_count": null,
      "outputs": []
    },
    {
      "cell_type": "code",
      "source": [
        "# 리스트간의 연산 결과는?\n",
        "s = [2, 4, 6, 8, 10]\n",
        "s2 = [5,10,15,20,25]\n",
        "\n",
        "print(s+s2)"
      ],
      "metadata": {
        "colab": {
          "base_uri": "https://localhost:8080/"
        },
        "id": "t3o1pit53Pa2",
        "outputId": "898627bb-6fbd-4b83-f8cb-9dbcfafaca11"
      },
      "execution_count": null,
      "outputs": [
        {
          "output_type": "stream",
          "name": "stdout",
          "text": [
            "[2, 4, 6, 8, 10, 5, 10, 15, 20, 25]\n"
          ]
        }
      ]
    },
    {
      "cell_type": "code",
      "source": [
        "# 배열간의 연산결과는?\n",
        "arr1 = np.array([2, 4, 6, 8, 10])\n",
        "arr2 = np.array([5,10,15,20,25])\n",
        "\n",
        "\n",
        "print(result)\n",
        "\n",
        "\n",
        "print(result)\n",
        "\n",
        "\n",
        "print(result)\n",
        "\n",
        "\n",
        "print(result)"
      ],
      "metadata": {
        "colab": {
          "base_uri": "https://localhost:8080/"
        },
        "id": "Ydv-Fy_z3T4V",
        "outputId": "30bd3cb2-6fa3-44be-9b67-3ad5d07cdcbb"
      },
      "execution_count": null,
      "outputs": [
        {
          "output_type": "stream",
          "name": "stdout",
          "text": [
            "[ 7 14 21 28 35]\n",
            "[ -3  -6  -9 -12 -15]\n",
            "[ 10  40  90 160 250]\n",
            "[0.4 0.4 0.4 0.4 0.4]\n"
          ]
        }
      ]
    },
    {
      "cell_type": "markdown",
      "source": [
        "#5.노션포트폴리오 페이지만들기"
      ],
      "metadata": {
        "id": "7BYsVv1e3cyG"
      }
    }
  ]
}